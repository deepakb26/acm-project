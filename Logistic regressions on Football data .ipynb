{
 "cells": [
  {
   "cell_type": "code",
   "execution_count": 2,
   "id": "b5a8abac",
   "metadata": {},
   "outputs": [],
   "source": [
    "##Importing packages and opening dataset\n",
    "import pandas as pd\n",
    "import numpy as np\n",
    "import os\n",
    "from matplotlib import pyplot as plt\n",
    "#to plot graph inline\n",
    "%matplotlib inline\n",
    "#adjust accordingly\n",
    "df=pd.read_csv(\"D:/Deepak/VIT/Projects/ACM/Dataset/results modified.csv\")      \n",
    "#df.head() to check if obtained properly\n"
   ]
  },
  {
   "cell_type": "code",
   "execution_count": 9,
   "id": "402935bb",
   "metadata": {},
   "outputs": [
    {
     "data": {
      "text/plain": [
       "(43182, 10)"
      ]
     },
     "execution_count": 9,
     "metadata": {},
     "output_type": "execute_result"
    }
   ],
   "source": [
    "#df.shape           #    To validate whole dataset has been retrieved"
   ]
  },
  {
   "cell_type": "code",
   "execution_count": 3,
   "id": "5d8df2f8",
   "metadata": {},
   "outputs": [],
   "source": [
    "#remove friendly games from records\n",
    "index_values=df[df['tournament']=='Friendly'].index\n",
    "df.drop(index_values,inplace = True)\n",
    "#df.head()\n",
    "#df.shape"
   ]
  },
  {
   "cell_type": "code",
   "execution_count": 4,
   "id": "d06ef3fb",
   "metadata": {},
   "outputs": [
    {
     "data": {
      "text/plain": [
       "(17220, 10)"
      ]
     },
     "execution_count": 4,
     "metadata": {},
     "output_type": "execute_result"
    }
   ],
   "source": [
    "#To retain only games where home advantage played a role\n",
    "index_not_home=df[df['home_team'] != df['country']].index\n",
    "df.drop(index_not_home,inplace = True)\n",
    "#df.shape to verify that records have been dropped\n"
   ]
  },
  {
   "cell_type": "code",
   "execution_count": 7,
   "id": "ef568744",
   "metadata": {},
   "outputs": [],
   "source": [
    "df.rename(columns = {'Home team result':'home_result'}, inplace = True)"
   ]
  },
  {
   "cell_type": "code",
   "execution_count": 8,
   "id": "084d7330",
   "metadata": {},
   "outputs": [],
   "source": [
    "# Assigning win as 2 draw as 1 and loss as 0\n",
    "df['home_result'] = df['home_result'].replace(['Win'],'2')\n",
    "df['home_result'] = df['home_result'].replace(['Draw'],'1')\n",
    "df['home_result'] = df['home_result'].replace(['Loss'],'0')\n"
   ]
  },
  {
   "cell_type": "code",
   "execution_count": 9,
   "id": "9c86c4de",
   "metadata": {},
   "outputs": [],
   "source": [
    "df['home_result'] = df['home_result'].astype(int)"
   ]
  },
  {
   "cell_type": "code",
   "execution_count": 43,
   "id": "5cf75eb8",
   "metadata": {},
   "outputs": [],
   "source": [
    "x=df['home_score']\n",
    "y=df['home_result']\n",
    "plt.yticks([0,1,2],['loss', 'draw','win'])                   #creating appropriate y axis labels\n",
    "plt.scatter(x,y,marker='+')                                  #plotting the graph"
   ]
  },
  {
   "cell_type": "code",
   "execution_count": 11,
   "id": "1646b865",
   "metadata": {},
   "outputs": [],
   "source": [
    "from sklearn.model_selection import train_test_split\n",
    "X_train, X_test, y_train, y_test = train_test_split(df[['home_score']],df.home_result,train_size=0.8)"
   ]
  },
  {
   "cell_type": "code",
   "execution_count": 41,
   "id": "5e58c342",
   "metadata": {},
   "outputs": [],
   "source": [
    "X_test"
   ]
  },
  {
   "cell_type": "code",
   "execution_count": 42,
   "id": "056dd063",
   "metadata": {},
   "outputs": [],
   "source": [
    "X_train"
   ]
  },
  {
   "cell_type": "code",
   "execution_count": 15,
   "id": "51b9df53",
   "metadata": {},
   "outputs": [],
   "source": [
    "#creating a Logistic Regression classifier object\n",
    "from sklearn.linear_model import LogisticRegression\n",
    "model = LogisticRegression()"
   ]
  },
  {
   "cell_type": "code",
   "execution_count": 39,
   "id": "8764ab5d",
   "metadata": {},
   "outputs": [
    {
     "data": {
      "text/plain": [
       "LogisticRegression()"
      ]
     },
     "execution_count": 39,
     "metadata": {},
     "output_type": "execute_result"
    }
   ],
   "source": [
    "#train the model\n",
    "model.fit(X_train,y_train)"
   ]
  },
  {
   "cell_type": "code",
   "execution_count": 38,
   "id": "afcfc930",
   "metadata": {},
   "outputs": [
    {
     "data": {
      "text/plain": [
       "array([1, 2, 1, ..., 0, 2, 2])"
      ]
     },
     "execution_count": 38,
     "metadata": {},
     "output_type": "execute_result"
    }
   ],
   "source": [
    "#predict result using the model\n",
    "model.predict(X_test)"
   ]
  },
  {
   "cell_type": "code",
   "execution_count": 40,
   "id": "d9c8e33a",
   "metadata": {},
   "outputs": [
    {
     "data": {
      "text/plain": [
       "0.6675377468060395"
      ]
     },
     "execution_count": 40,
     "metadata": {},
     "output_type": "execute_result"
    }
   ],
   "source": [
    "#gives accuracy of this model\n",
    "model.score(X_test,y_test)"
   ]
  },
  {
   "cell_type": "code",
   "execution_count": 20,
   "id": "fea48559",
   "metadata": {},
   "outputs": [],
   "source": [
    "#to predict for a certain amount of goals  can remove this\n",
    "model.predict([[3]])"
   ]
  },
  {
   "cell_type": "code",
   "execution_count": 21,
   "id": "ff49b6db",
   "metadata": {},
   "outputs": [
    {
     "data": {
      "text/plain": [
       "array([ 1.03951211,  0.40537116, -1.44488327])"
      ]
     },
     "execution_count": 21,
     "metadata": {},
     "output_type": "execute_result"
    }
   ],
   "source": [
    "model.intercept_"
   ]
  },
  {
   "cell_type": "code",
   "execution_count": 22,
   "id": "26f040dd",
   "metadata": {},
   "outputs": [
    {
     "data": {
      "text/plain": [
       "array([[-1.0407332 ],\n",
       "       [-0.34303088],\n",
       "       [ 1.38376408]])"
      ]
     },
     "execution_count": 22,
     "metadata": {},
     "output_type": "execute_result"
    }
   ],
   "source": [
    "model.coef_"
   ]
  },
  {
   "cell_type": "code",
   "execution_count": 37,
   "id": "443ad465",
   "metadata": {},
   "outputs": [],
   "source": [
    "'''\n",
    "to plot graph\n",
    "import seaborn as sns\n",
    "x=df['home_score']\n",
    "y=df['home_result']\n",
    "plt.yticks([0,1,2],['loss', 'draw','win'])\n",
    "sns.regplot(x=x, y=y, data=df, logistic=True, ci=None,\n",
    "            scatter_kws={'color': 'black'}, line_kws={'color': 'red'})'''\n",
    "\n"
   ]
  }
 ],
 "metadata": {
  "kernelspec": {
   "display_name": "Python 3 (ipykernel)",
   "language": "python",
   "name": "python3"
  },
  "language_info": {
   "codemirror_mode": {
    "name": "ipython",
    "version": 3
   },
   "file_extension": ".py",
   "mimetype": "text/x-python",
   "name": "python",
   "nbconvert_exporter": "python",
   "pygments_lexer": "ipython3",
   "version": "3.10.2"
  }
 },
 "nbformat": 4,
 "nbformat_minor": 5
}
